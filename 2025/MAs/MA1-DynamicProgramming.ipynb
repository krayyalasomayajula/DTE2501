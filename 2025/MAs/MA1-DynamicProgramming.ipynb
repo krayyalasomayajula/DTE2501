{
 "cells": [
  {
   "cell_type": "markdown",
   "metadata": {},
   "source": [
    "# Mandatory assignment 1 - Dynamic programming\n",
    "\n",
    "This task involves solving the problem using a dynamic programming approach. In this approach we will define a recursive relation, break problem down into subproblems and use these subproblems to build the solution. \n",
    "\n",
    "## The task description \n",
    "Given a sum s and the 4 Norwegian coins denominations write a dynamic programming algorithm in Python using the **tabular approach** that outputs the minimum number of coins that sum up to s.\n",
    "\n",
    "1. Identify the subproblems and write the recurrent relation \n",
    "2. Write the program that solves the problem described above. Your program should print out the result.\n",
    "3. Use the uitai environment mention in the Module 1 demo."
   ]
  },
  {
   "cell_type": "markdown",
   "metadata": {},
   "source": [
    "## Problem description:\n",
    "$$Problem:1$$\n",
    "- For the 'sum' = [1040523, 1040514] NOKs use available coins =[[1, 5, 15, 25], [1, 7, 17, 31]] denominations respectively.\n",
    "- Output: Report the minimum number of coins required to make 'sum' along with the denominations used in each case\n",
    "\n",
    "$$Problem:2$$\n",
    "- For 'sum' = [1, 2, ..., 100] determine the optimal combination of 3 available coins denominations (distinct) such that the average number of coins used to meet the 'sum' from 1 to 100 is the least.\n",
    "- Output: Report the average coins value (floating point) along with the denominations that led to the optimum solution\n",
    "- Hint: The minimum of the denomination has to be 1 and use that fact that the 3 denominations have to be distinct to creat optimal nesting of loops. Limit the maximum denomination to 25.\n",
    "\n"
   ]
  },
  {
   "cell_type": "code",
   "execution_count": 13,
   "metadata": {},
   "outputs": [
    {
     "name": "stdout",
     "output_type": "stream",
     "text": [
      "Our initial sum is 1040523 NOK and the coins we have [1, 5, 15, 25]\n"
     ]
    }
   ],
   "source": [
    "sum: int = 1040523 # NOK\n",
    "avaliable_coins: list = [1, 5, 15, 25] # our coins irl, picture above\n",
    "print(f\"Our initial sum is {sum} NOK and the coins we have {avaliable_coins}\")\n"
   ]
  },
  {
   "cell_type": "markdown",
   "metadata": {},
   "source": [
    "### Greedy approach\n",
    "\n",
    "First can we think about greedy approach that feels direct and pretty intuitive where we take the high value coins first\n",
    "If we take 40 NOK and our norwegian coins it will be 20 NOK coin 2 times and we get 2 coins total using only one \n"
   ]
  },
  {
   "cell_type": "code",
   "execution_count": 14,
   "metadata": {},
   "outputs": [],
   "source": [
    "'''\n",
    "fucntion to count the total coins used\n",
    "'''\n",
    "def count_coins(coin_usage: dict):\n",
    "    total_coins = 0\n",
    "    for key, val in coin_usage.items():\n",
    "        total_coins += val\n",
    "    return total_coins"
   ]
  },
  {
   "cell_type": "code",
   "execution_count": 15,
   "metadata": {},
   "outputs": [
    {
     "name": "stdout",
     "output_type": "stream",
     "text": [
      "For 1040523 total coins count: 0, coins used: None\n",
      "For 31 total coins count: 0, coins used: None\n",
      "For 45 total coins count: 0, coins used: None\n"
     ]
    }
   ],
   "source": [
    "\n",
    "def greedy_approach(sum: int, use_coins: list):\n",
    "    coin_usage = {coin: 0 for coin in use_coins} # dict to count how many and what kind of coins we use\n",
    "    init_sum = sum\n",
    "    '''\n",
    "    Implement the greedy appraoch to solve here\n",
    "    '''\n",
    "    total_coins = 0\n",
    "    coin_usage = None\n",
    "    print(f\"For {init_sum} total coins count: {total_coins}, coins used: {coin_usage}\")\n",
    "\n",
    "greedy_approach(1040523, avaliable_coins)\n",
    "greedy_approach(31, avaliable_coins)\n",
    "greedy_approach(45, avaliable_coins)"
   ]
  },
  {
   "cell_type": "markdown",
   "metadata": {},
   "source": [
    "For the given coin list for greedy algotithm (when the code is completed) the prints will look like:\n",
    "- For 1040528 total coins count: 41623, coins used: {25: 41621, 15: 0, 2: 1, 1: 1}\n",
    "- For 31 total coins count: 4, coins used: {25: 1, 15: 0, 2: 3, 1: 0}\n",
    "- For 45 total coins count: 5, coins used: {25: 1, 15: 1, 2: 2, 1: 1}\n",
    "Verifying the output for 1040528 can be difficult. However, we can see that the denominations mentioned for 31 and 45 are wrong. For example\n",
    "better solutions with three coins each {25: 0, 15: 2, 2: 0, 1: 1}, {25: 0, 15: 3, 2: 0, 1: 0} are available for 31 and 45 respectively."
   ]
  },
  {
   "cell_type": "markdown",
   "metadata": {},
   "source": [
    "## Dynamic programming approach\n",
    "\t\n",
    "#### Subproblems\n",
    "Mention how you broke the problem into sub-problems here\n",
    "\n",
    "#### Recurrence \n",
    "Explain your recurrence relation here."
   ]
  },
  {
   "cell_type": "markdown",
   "metadata": {},
   "source": [
    "We can \"backtrack\" the logic now with target sum of 31 NOK in our little test example <br>\n",
    "Our sequence of values in terms of earlier values depends on this line in the code:"
   ]
  },
  {
   "cell_type": "markdown",
   "metadata": {},
   "source": [
    "## Problem 1 solution as a python function/procedure"
   ]
  },
  {
   "cell_type": "code",
   "execution_count": 7,
   "metadata": {},
   "outputs": [],
   "source": [
    "\n",
    "# --------- Any supporitng function above this line --------- \n",
    "\n",
    "def min_coins_using_dp_table(sum_nok: int, use_coins: list):\n",
    "    \"\"\"\n",
    "    This function calculates the minimum number of coins needed to make the sum 'sum_nok' using norwegian coins\n",
    "    \"\"\"\n",
    "    dp = {}\n",
    "    sum_nok = None\n",
    "    if len(dp) > 0:\n",
    "        return count_coins(dp[sum_nok]), dp[sum_nok]\n",
    "    else:\n",
    "        return None, None\n"
   ]
  },
  {
   "cell_type": "code",
   "execution_count": 8,
   "metadata": {},
   "outputs": [
    {
     "name": "stdout",
     "output_type": "stream",
     "text": [
      "=======================================\n",
      "Minimum number of coins to make 31 NOK is None denominations are None\n",
      "=======================================\n",
      "Minimum number of coins to make 31 NOK is None denominations are None\n",
      "=======================================\n",
      "Minimum number of coins to make 45 NOK is None denominations are None\n",
      "=======================================\n",
      "Minimum number of coins to make 45 NOK is None denominations are None\n",
      "=======================================\n",
      "Minimum number of coins to make 1040523 NOK is None denominations are None\n",
      "=======================================\n",
      "Minimum number of coins to make 1040514 NOK is None denominations are None\n"
     ]
    }
   ],
   "source": [
    "for sum, l_avaliable_coins in zip([31, 45, 1040523, 1040514], [[[1, 5, 15, 25], [1, 7, 17, 31]], [[1, 5, 15, 25], [1, 7, 17, 31]], [[1, 5, 15, 25]], [[1, 7, 17, 31]]]):\n",
    "    for avaliable_coins in l_avaliable_coins:\n",
    "        print('=======================================')\n",
    "        result_coins, dp = min_coins_using_dp_table(sum, avaliable_coins)\n",
    "        print(f\"Minimum number of coins to make {sum} NOK is {result_coins} denominations are {dp}\")"
   ]
  },
  {
   "cell_type": "markdown",
   "metadata": {},
   "source": [
    "## Problem 2 solution as a python function/procedure"
   ]
  },
  {
   "cell_type": "code",
   "execution_count": 11,
   "metadata": {},
   "outputs": [],
   "source": [
    "def get_best_denomination():\n",
    "    min_total_coins = {'total': 0, 'denom': None}\n",
    "    ' Implement the fcuntion'\n",
    "    return min_total_coins\n"
   ]
  },
  {
   "cell_type": "code",
   "execution_count": 12,
   "metadata": {},
   "outputs": [
    {
     "name": "stdout",
     "output_type": "stream",
     "text": [
      "Avg coins used: 0.0, best denomination: None\n"
     ]
    }
   ],
   "source": [
    "min_total_coins = get_best_denomination()\n",
    "print(f'Avg coins used: {min_total_coins['total']/100.0}, best denomination: {min_total_coins['denom']}')"
   ]
  },
  {
   "cell_type": "code",
   "execution_count": null,
   "metadata": {},
   "outputs": [],
   "source": []
  }
 ],
 "metadata": {
  "kernelspec": {
   "display_name": "Python 3",
   "language": "python",
   "name": "python3"
  },
  "language_info": {
   "codemirror_mode": {
    "name": "ipython",
    "version": 3
   },
   "file_extension": ".py",
   "mimetype": "text/x-python",
   "name": "python",
   "nbconvert_exporter": "python",
   "pygments_lexer": "ipython3",
   "version": "3.12.11"
  }
 },
 "nbformat": 4,
 "nbformat_minor": 2
}
