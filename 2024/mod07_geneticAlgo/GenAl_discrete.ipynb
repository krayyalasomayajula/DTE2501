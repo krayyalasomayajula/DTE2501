{
 "cells": [
  {
   "cell_type": "code",
   "execution_count": 1,
   "id": "458798fa",
   "metadata": {
    "collapsed": true
   },
   "outputs": [],
   "source": [
    "# genetic algorithm search of the one max optimization problem\n",
    "import numpy as np\n",
    "from numpy.random import randint\n",
    "from numpy.random import rand\n",
    "import matplotlib.pyplot as plt\n",
    "import math\n",
    "import cv2\n",
    "import os"
   ]
  },
  {
   "cell_type": "markdown",
   "metadata": {},
   "source": [
    "## Objective function"
   ]
  },
  {
   "cell_type": "code",
   "execution_count": 2,
   "metadata": {},
   "outputs": [],
   "source": [
    "def color_match(x, target):\n",
    "\tdist = 0\n",
    "\tfor c1, c2 in zip(x, target):\n",
    "\t\tdist += (c1-c2)**2\n",
    "\treturn math.sqrt(dist)"
   ]
  },
  {
   "cell_type": "markdown",
   "metadata": {},
   "source": [
    "## Elite+Roulette selection"
   ]
  },
  {
   "cell_type": "code",
   "execution_count": 3,
   "metadata": {},
   "outputs": [],
   "source": [
    "import pandas as pd\n",
    "\n",
    "def scores2prob(scores):\n",
    "    inv_scores = [ 1/(score+ 1e-10) for score in scores]\n",
    "    agg = sum(inv_scores)\n",
    "    prob = [ score/agg for score in inv_scores]\n",
    "    \n",
    "    return prob\n",
    "\n",
    "def selection(pop, scores):\n",
    "    \n",
    "    nsamples = len(pop)\n",
    "    df = pd.DataFrame({\n",
    "          'pop': pop,\n",
    "          'scores': scores\n",
    "          })\n",
    "    \n",
    "    df = df.sort_values(by=['scores']).reset_index(drop=True) # sorted in ascending order\n",
    "    new_parents = df['pop'] #.tolist()[:top_k]\n",
    "    new_scores = df['scores'] #.tolist()[:top_k]\n",
    "    prob = scores2prob(new_scores)\n",
    "    \n",
    "    sample_idx = [np.random.choice(range(len(new_parents)), 2, replace=False, p=prob).tolist() for _ in range(nsamples)]\n",
    "\n",
    "    ldict_selection = []\n",
    "    for p1_idx, p2_idx in sample_idx:\n",
    "        agg = prob[p1_idx]+prob[p2_idx]\n",
    "        d_sel = {\n",
    "            'parents': [new_parents[p1_idx], new_parents[p2_idx]],\n",
    "            'scores': [prob[p1_idx]/agg, prob[p2_idx]/agg]\n",
    "            }\n",
    "        ldict_selection.append(d_sel)\n",
    "\t\n",
    "    return ldict_selection\n"
   ]
  },
  {
   "cell_type": "markdown",
   "metadata": {},
   "source": [
    "## Arithmetic crossover"
   ]
  },
  {
   "cell_type": "code",
   "execution_count": 4,
   "metadata": {},
   "outputs": [],
   "source": [
    "def crossover(ldict_selection):\n",
    "\tl_child = []\n",
    "\tfor d_sel in ldict_selection:\n",
    "\t\tp1, p2 = d_sel['parents']\n",
    "\t\ts1, s2 = d_sel['scores']\n",
    "\t\tchild = (s1 * np.array(p1) + s2 * np.array(p2)).astype(np.uint8).tolist() #arithmetic crossover\n",
    "\n",
    "\t\tl_child.append(child)\n",
    "\t\n",
    "\treturn l_child"
   ]
  },
  {
   "cell_type": "markdown",
   "metadata": {},
   "source": [
    "## Mutation operator"
   ]
  },
  {
   "cell_type": "code",
   "execution_count": 5,
   "metadata": {},
   "outputs": [],
   "source": [
    "from copy import deepcopy\n",
    "\n",
    "def mutation(l_child, r_mut):\n",
    "\tl_mutation = deepcopy(l_child)\n",
    "\tfor sidx, sample in enumerate(l_mutation):\n",
    "\t\tfor cidx, clr in enumerate(sample):\n",
    "\t\t\t# check for a mutation\n",
    "\t\t\tif rand() < r_mut: # P(0<.= r <=1.0) < r_mut\n",
    "\t\t\t\tmask = np.uint8(1 << randint(0, 8))\n",
    "\t\t\t\tsample[cidx] = clr ^ mask # XOR prperty 0 ^ 0 = 0, 0 ^ 1 = 1, 1 ^ 0 = 1, 1^ 1=0 \n",
    "\t\tl_mutation[sidx] = sample\n",
    "\treturn l_mutation\n"
   ]
  },
  {
   "cell_type": "markdown",
   "metadata": {},
   "source": [
    "## Display the interation results"
   ]
  },
  {
   "cell_type": "code",
   "execution_count": 6,
   "metadata": {},
   "outputs": [],
   "source": [
    "def display_pallete(sample_pop, target_color, \n",
    "                    children, mutations, best, generation,\n",
    "                    n_row, n_col):\n",
    "    pop_palette = np.array(sample_pop)[np.newaxis, :, :].reshape(n_row, n_col, 3)\n",
    "    chd_palette = np.array(children)[np.newaxis, :, :].reshape(n_row, n_col, 3)\n",
    "    mut_palette = np.array(mutations)[np.newaxis, :, :].reshape(n_row, n_col, 3)\n",
    "    \n",
    "    target_pal = np.array([target_color])[np.newaxis, :, :]\n",
    "    best_pal = np.array([best])[np.newaxis, :, :]\n",
    "\n",
    "    fig, ax = plt.subplots(nrows=1, ncols=5, figsize=(12, 8))\n",
    "    fig.patch.set_facecolor('white')\n",
    "\n",
    "    ax[0].imshow(target_pal)\n",
    "    ax[0].axis('off')\n",
    "    ax[0].title.set_text('Target')\n",
    "\n",
    "    ax[1].imshow(pop_palette)\n",
    "    ax[1].axis('off')\n",
    "    ax[1].title.set_text(f'Generation:{str(generation).zfill(3)} parents')\n",
    "\n",
    "    ax[2].imshow(chd_palette)\n",
    "    ax[2].axis('off')\n",
    "    ax[2].title.set_text(f'Generation:{str(generation).zfill(3)} children')\n",
    "\n",
    "    ax[3].imshow(mut_palette)\n",
    "    ax[3].axis('off')\n",
    "    ax[3].title.set_text(f'Generation:{str(generation).zfill(3)} mutations')\n",
    "\n",
    "    ax[4].imshow(best_pal)\n",
    "    ax[4].axis('off')\n",
    "    ax[4].title.set_text(f'Generation:{str(generation).zfill(3)} best result')\n",
    "\n",
    "    plt.tight_layout()\n",
    "    plt.savefig(f'./output/results_{str(generation).zfill(3)}.png')\n",
    "    plt.close()\n",
    "\n",
    "\n",
    "def createVideo():\n",
    "\t\n",
    "    image_folder = 'output'\n",
    "    video_name = './output/video.avi'\n",
    "    images = [img for img in os.listdir(image_folder) if img.endswith(\".png\")]\n",
    "\t\n",
    "    images.sort()\n",
    "\t\n",
    "    frame = cv2.imread(os.path.join(image_folder, images[0]))\n",
    "    height, width, layers = frame.shape\n",
    "\n",
    "    video = cv2.VideoWriter(video_name, 0, 1, (width,height))\n",
    "    for image in images:\n",
    "        video.write(cv2.imread(os.path.join(image_folder, image)))\n",
    "\t\n",
    "    cv2.destroyAllWindows()\n",
    "    \n",
    "    video.release()\n"
   ]
  },
  {
   "cell_type": "markdown",
   "metadata": {},
   "source": [
    "## Genetic algorithm"
   ]
  },
  {
   "cell_type": "code",
   "execution_count": 7,
   "id": "ae00a980",
   "metadata": {},
   "outputs": [],
   "source": [
    "def genetic_algorithm(pop, target,\n",
    "\t\t\t\t\t  objective, n_iter, r_mut, d_disp_grid_sz):\n",
    "\t\n",
    "\tn_pop = len(pop)\n",
    "\t# keep track of best solution\n",
    "\tbest, best_eval = pop[0], objective(pop[0], target)\n",
    "\t\n",
    "\t# iterate over the generations\n",
    "\tfor gen in range(n_iter):\n",
    "\t\t# evaluate all candidates in the population\n",
    "\t\tscores = [objective(c, target) for c in pop]\n",
    "\t\t\n",
    "\t\t# check for new best solution\n",
    "\t\tfor i in range(n_pop):\n",
    "\t\t\tif scores[i] < best_eval:\n",
    "\t\t\t\tbest, best_eval = pop[i], scores[i]\n",
    "\t\t\t\tprint(\">%d, new best f(%s) = %.3f\" % (gen,  pop[i], scores[i]))\n",
    "\t\t\n",
    "\t\t# select parents\n",
    "\t\tselected = selection(pop, scores)\n",
    "\n",
    "\t\t# create the next generation\n",
    "\t\tchildren = crossover(selected)\n",
    "\t\t\n",
    "\t\t# create mutations for gene diversity\n",
    "\t\tmutations = mutation(children, r_mut)\n",
    "\n",
    "\t\t# Display results from the generation\n",
    "\t\tdisplay_pallete(pop, target, children, mutations, best, gen,\n",
    "\t\t\t\t  d_disp_grid_sz['N_ROW'], d_disp_grid_sz['N_COL'])\n",
    "\n",
    "\t\t# replace population\n",
    "\t\tpop = mutations\n",
    "\t\n",
    "\tcreateVideo()\n",
    "\t\n",
    "\treturn [best, best_eval]\n"
   ]
  },
  {
   "cell_type": "markdown",
   "metadata": {},
   "source": [
    "## Create initial population (color pallete in this case)"
   ]
  },
  {
   "cell_type": "code",
   "execution_count": 8,
   "metadata": {},
   "outputs": [
    {
     "name": "stdout",
     "output_type": "stream",
     "text": [
      ">0, new best f((183, 134, 135)) = 263.951\n",
      ">2, new best f([195, 14, 172]) = 260.394\n",
      ">3, new best f([183, 173, 40]) = 254.986\n",
      ">6, new best f([50, 169, 169]) = 244.176\n",
      ">7, new best f([57, 160, 164]) = 236.104\n",
      ">9, new best f([169, 146, 38]) = 226.541\n",
      ">11, new best f([177, 136, 24]) = 224.502\n",
      ">12, new best f([183, 82, 30]) = 202.763\n",
      ">14, new best f([51, 125, 134]) = 190.216\n",
      ">23, new best f([146, 91, 52]) = 179.725\n",
      ">24, new best f([145, 91, 27]) = 173.306\n",
      ">25, new best f([18, 106, 125]) = 164.879\n",
      ">26, new best f([23, 108, 113]) = 157.994\n",
      ">38, new best f([54, 99, 110]) = 157.534\n",
      ">39, new best f([120, 32, 92]) = 154.557\n",
      ">40, new best f([110, 94, 45]) = 151.529\n",
      ">44, new best f([54, 87, 103]) = 145.238\n",
      ">49, new best f([107, 80, 43]) = 140.350\n",
      ">52, new best f([36, 85, 103]) = 138.311\n",
      ">54, new best f([104, 84, 34]) = 137.942\n",
      ">56, new best f([43, 82, 101]) = 137.018\n",
      ">57, new best f([94, 21, 96]) = 135.989\n",
      ">57, new best f([71, 81, 83]) = 135.982\n",
      ">60, new best f([98, 82, 32]) = 131.727\n",
      ">65, new best f([36, 83, 89]) = 126.909\n",
      ">66, new best f([90, 82, 24]) = 124.097\n",
      ">70, new best f([90, 82, 22]) = 123.726\n",
      ">72, new best f([90, 76, 20]) = 119.482\n",
      ">73, new best f([32, 76, 56]) = 99.679\n",
      ">75, new best f([62, 76, 8]) = 98.407\n",
      ">81, new best f([15, 55, 78]) = 96.613\n",
      ">83, new best f([58, 68, 13]) = 90.316\n",
      ">92, new best f([59, 35, 53]) = 86.689\n",
      ">96, new best f([41, 48, 59]) = 86.406\n",
      ">98, new best f([55, 57, 30]) = 84.699\n",
      ">98, new best f([55, 57, 28]) = 84.012\n",
      ">99, new best f([56, 41, 43]) = 81.646\n",
      ">100, new best f([25, 59, 43]) = 77.169\n",
      ">104, new best f([14, 43, 54]) = 70.434\n",
      ">116, new best f([13, 50, 47]) = 69.843\n",
      ">117, new best f([44, 50, 16]) = 68.498\n",
      ">118, new best f([37, 50, 13]) = 63.545\n",
      ">120, new best f([44, 17, 40]) = 61.847\n",
      ">125, new best f([44, 11, 25]) = 51.788\n",
      ">130, new best f([9, 30, 37]) = 48.477\n",
      ">134, new best f([19, 37, 1]) = 41.605\n",
      ">136, new best f([25, 5, 24]) = 35.014\n",
      ">144, new best f([26, 8, 17]) = 32.078\n"
     ]
    },
    {
     "data": {
      "text/plain": [
       "[[26, 8, 17], 32.07802986469088]"
      ]
     },
     "execution_count": 8,
     "metadata": {},
     "output_type": "execute_result"
    }
   ],
   "source": [
    "N_ROW, N_COL = 5, 10 # Plot rows, cols in color palette\n",
    "N_POPULATION = N_ROW * N_COL\n",
    "sample_pop = [tuple(randint(128, 255, 3)) for _ in range(N_POPULATION)] # Pick a triple of RGB values. Sample from higher values to get lighter shades\n",
    "target_color = (0, 0, 0) #Delibrately picking black. tuple(randint(0, 255, 3))\n",
    "\n",
    "n_iter = 150 # No.of generations\n",
    "r_mut = 0.05 # Percent chance of mutation in the feature/gene\n",
    "d_disp_grid_sz = {\n",
    "    'N_ROW' : N_ROW,\n",
    "    'N_COL' : N_COL\n",
    "}\n",
    "\n",
    "if not os.path.exists('./output/'):\n",
    "    os.makedirs('./output/')\n",
    "\n",
    "genetic_algorithm(sample_pop, target_color,\n",
    "\t\t\t\t\t  color_match, n_iter, r_mut, d_disp_grid_sz)"
   ]
  },
  {
   "cell_type": "code",
   "execution_count": null,
   "metadata": {},
   "outputs": [],
   "source": []
  }
 ],
 "metadata": {
  "kernelspec": {
   "display_name": "Python 3",
   "language": "python",
   "name": "python3"
  },
  "language_info": {
   "codemirror_mode": {
    "name": "ipython",
    "version": 3
   },
   "file_extension": ".py",
   "mimetype": "text/x-python",
   "name": "python",
   "nbconvert_exporter": "python",
   "pygments_lexer": "ipython3",
   "version": "3.7.12"
  }
 },
 "nbformat": 4,
 "nbformat_minor": 5
}
